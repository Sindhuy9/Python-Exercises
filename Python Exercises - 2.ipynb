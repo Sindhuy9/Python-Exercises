{
 "cells": [
  {
   "cell_type": "code",
   "execution_count": 6,
   "id": "2b916462",
   "metadata": {},
   "outputs": [],
   "source": [
    "def my_name():\n",
    "    print(\"Data\")"
   ]
  },
  {
   "cell_type": "code",
   "execution_count": 7,
   "id": "96c6bdcf",
   "metadata": {},
   "outputs": [
    {
     "name": "stdout",
     "output_type": "stream",
     "text": [
      "Data\n"
     ]
    }
   ],
   "source": [
    "my_name()"
   ]
  },
  {
   "cell_type": "code",
   "execution_count": 8,
   "id": "697de73f",
   "metadata": {},
   "outputs": [],
   "source": [
    "def my_name(name='Python'):\n",
    "    print(name)"
   ]
  },
  {
   "cell_type": "code",
   "execution_count": 9,
   "id": "1e1c733c",
   "metadata": {},
   "outputs": [
    {
     "name": "stdout",
     "output_type": "stream",
     "text": [
      "Python\n"
     ]
    }
   ],
   "source": [
    "my_name()"
   ]
  },
  {
   "cell_type": "code",
   "execution_count": 10,
   "id": "059958b1",
   "metadata": {},
   "outputs": [
    {
     "name": "stdout",
     "output_type": "stream",
     "text": [
      "Data Enthusiast\n"
     ]
    }
   ],
   "source": [
    "my_name('Data Enthusiast')"
   ]
  },
  {
   "cell_type": "code",
   "execution_count": 11,
   "id": "71a1721f",
   "metadata": {},
   "outputs": [],
   "source": [
    "def say_hi(name):\n",
    "    return 'Hello '+ name"
   ]
  },
  {
   "cell_type": "code",
   "execution_count": 18,
   "id": "b1d25ae4",
   "metadata": {},
   "outputs": [
    {
     "data": {
      "text/plain": [
       "'Hello World'"
      ]
     },
     "execution_count": 18,
     "metadata": {},
     "output_type": "execute_result"
    }
   ],
   "source": [
    "say_hi('World')"
   ]
  },
  {
   "cell_type": "markdown",
   "id": "d8191283",
   "metadata": {},
   "source": [
    "# Dynamic Arguments"
   ]
  },
  {
   "cell_type": "code",
   "execution_count": 19,
   "id": "dab080e3",
   "metadata": {},
   "outputs": [],
   "source": [
    "def database_columns(*args):\n",
    "    for arg in args:\n",
    "        print(arg)"
   ]
  },
  {
   "cell_type": "code",
   "execution_count": 15,
   "id": "8e7190c9",
   "metadata": {},
   "outputs": [
    {
     "name": "stdout",
     "output_type": "stream",
     "text": [
      "name\n",
      "age\n",
      "education\n"
     ]
    }
   ],
   "source": [
    "database_columns('name','age','education')"
   ]
  },
  {
   "cell_type": "code",
   "execution_count": 17,
   "id": "bc13d733",
   "metadata": {},
   "outputs": [
    {
     "name": "stdout",
     "output_type": "stream",
     "text": [
      "name\n",
      "sal\n",
      "address\n",
      "phn\n"
     ]
    }
   ],
   "source": [
    "database_columns('name','sal','address','phn')"
   ]
  },
  {
   "cell_type": "markdown",
   "id": "4128a2fa",
   "metadata": {},
   "source": [
    "Dynamic Keyword Arguments( accepts dictonaries)"
   ]
  },
  {
   "cell_type": "code",
   "execution_count": 20,
   "id": "b38c5c24",
   "metadata": {},
   "outputs": [],
   "source": [
    "def database_columns(**kwargs):\n",
    "    for value in kwargs.items():\n",
    "        print(value)"
   ]
  },
  {
   "cell_type": "code",
   "execution_count": 21,
   "id": "0be117b4",
   "metadata": {},
   "outputs": [
    {
     "name": "stdout",
     "output_type": "stream",
     "text": [
      "('name', 'Data')\n",
      "('sal', 'infinte')\n",
      "('address', 'World')\n"
     ]
    }
   ],
   "source": [
    "database_columns(name='Data',sal='infinte',address='World')"
   ]
  },
  {
   "cell_type": "markdown",
   "id": "f8ea994a",
   "metadata": {},
   "source": [
    "# Lambda Functions"
   ]
  },
  {
   "cell_type": "code",
   "execution_count": 22,
   "id": "6bd281ba",
   "metadata": {},
   "outputs": [],
   "source": [
    "square = lambda num: num**2"
   ]
  },
  {
   "cell_type": "code",
   "execution_count": 23,
   "id": "0f743d2d",
   "metadata": {},
   "outputs": [
    {
     "data": {
      "text/plain": [
       "4"
      ]
     },
     "execution_count": 23,
     "metadata": {},
     "output_type": "execute_result"
    }
   ],
   "source": [
    "square(2)"
   ]
  },
  {
   "cell_type": "markdown",
   "id": "2d362fc9",
   "metadata": {},
   "source": [
    "# Class"
   ]
  },
  {
   "cell_type": "code",
   "execution_count": 25,
   "id": "94e8148d",
   "metadata": {},
   "outputs": [],
   "source": [
    "class circle(object):\n",
    "    pi=3.14\n",
    "    def __init__(self,radius=1):\n",
    "        self.radius= radius\n",
    "        \n",
    "    def area(self):\n",
    "        return self.radius * self.radius * circle.pi\n",
    "    \n",
    "    def getRadius(self):\n",
    "        return self.radius\n",
    "    \n",
    "    def setRadius(self,radius):\n",
    "        self.radius = radius\n",
    "    "
   ]
  },
  {
   "cell_type": "code",
   "execution_count": 26,
   "id": "5cdfc601",
   "metadata": {},
   "outputs": [],
   "source": [
    "c=circle()"
   ]
  },
  {
   "cell_type": "code",
   "execution_count": 27,
   "id": "dc527516",
   "metadata": {},
   "outputs": [
    {
     "data": {
      "text/plain": [
       "1"
      ]
     },
     "execution_count": 27,
     "metadata": {},
     "output_type": "execute_result"
    }
   ],
   "source": [
    "c.getRadius()"
   ]
  },
  {
   "cell_type": "code",
   "execution_count": 28,
   "id": "b73b05fe",
   "metadata": {},
   "outputs": [],
   "source": [
    "c.setRadius(6)"
   ]
  },
  {
   "cell_type": "code",
   "execution_count": 29,
   "id": "e6e4feca",
   "metadata": {},
   "outputs": [
    {
     "data": {
      "text/plain": [
       "6"
      ]
     },
     "execution_count": 29,
     "metadata": {},
     "output_type": "execute_result"
    }
   ],
   "source": [
    "c.getRadius()"
   ]
  },
  {
   "cell_type": "code",
   "execution_count": 30,
   "id": "d514223c",
   "metadata": {},
   "outputs": [
    {
     "data": {
      "text/plain": [
       "113.04"
      ]
     },
     "execution_count": 30,
     "metadata": {},
     "output_type": "execute_result"
    }
   ],
   "source": [
    "c.area()"
   ]
  },
  {
   "cell_type": "markdown",
   "id": "43839d1c",
   "metadata": {},
   "source": [
    "# Class Methods, Instance Methods and Static Methods"
   ]
  },
  {
   "cell_type": "code",
   "execution_count": 33,
   "id": "a111c997",
   "metadata": {},
   "outputs": [],
   "source": [
    "class Student:\n",
    "    school = 'ABC'\n",
    "    def __init__(self,name):\n",
    "        self.name=name\n",
    "    \n",
    "    def show(self):\n",
    "        return self.name,Student.school\n",
    "    \n",
    "    @classmethod\n",
    "    def changeSchool(cls,schlname):\n",
    "        cls.school=schlname\n",
    "        \n",
    "    @staticmethod\n",
    "    def subject(name):\n",
    "        return [name +'Chapter 1', name + 'Chapter 2']   "
   ]
  },
  {
   "cell_type": "code",
   "execution_count": 34,
   "id": "e7951f6a",
   "metadata": {},
   "outputs": [],
   "source": [
    "X=Student('Student1')"
   ]
  },
  {
   "cell_type": "code",
   "execution_count": 35,
   "id": "57f5a18f",
   "metadata": {},
   "outputs": [
    {
     "data": {
      "text/plain": [
       "('Student1', 'ABC')"
      ]
     },
     "execution_count": 35,
     "metadata": {},
     "output_type": "execute_result"
    }
   ],
   "source": [
    "X.show()"
   ]
  },
  {
   "cell_type": "code",
   "execution_count": 37,
   "id": "4faaa385",
   "metadata": {},
   "outputs": [
    {
     "data": {
      "text/plain": [
       "['MathChapter 1', 'MathChapter 2']"
      ]
     },
     "execution_count": 37,
     "metadata": {},
     "output_type": "execute_result"
    }
   ],
   "source": [
    "X.subject('Math')"
   ]
  },
  {
   "cell_type": "code",
   "execution_count": 38,
   "id": "ca2371d8",
   "metadata": {},
   "outputs": [],
   "source": [
    "X.changeSchool('XYZ')"
   ]
  },
  {
   "cell_type": "code",
   "execution_count": 39,
   "id": "5a071170",
   "metadata": {},
   "outputs": [
    {
     "data": {
      "text/plain": [
       "('Student1', 'XYZ')"
      ]
     },
     "execution_count": 39,
     "metadata": {},
     "output_type": "execute_result"
    }
   ],
   "source": [
    "X.show()"
   ]
  },
  {
   "cell_type": "code",
   "execution_count": 40,
   "id": "16cd43b2",
   "metadata": {},
   "outputs": [],
   "source": [
    "def sum_product(a,b):\n",
    "    return a+b, a*b      "
   ]
  },
  {
   "cell_type": "code",
   "execution_count": 41,
   "id": "1637701f",
   "metadata": {},
   "outputs": [
    {
     "data": {
      "text/plain": [
       "(8, 15)"
      ]
     },
     "execution_count": 41,
     "metadata": {},
     "output_type": "execute_result"
    }
   ],
   "source": [
    "sum_product(5,3)"
   ]
  },
  {
   "cell_type": "code",
   "execution_count": null,
   "id": "bb926f65",
   "metadata": {},
   "outputs": [],
   "source": []
  }
 ],
 "metadata": {
  "kernelspec": {
   "display_name": "Python 3 (ipykernel)",
   "language": "python",
   "name": "python3"
  },
  "language_info": {
   "codemirror_mode": {
    "name": "ipython",
    "version": 3
   },
   "file_extension": ".py",
   "mimetype": "text/x-python",
   "name": "python",
   "nbconvert_exporter": "python",
   "pygments_lexer": "ipython3",
   "version": "3.10.7"
  }
 },
 "nbformat": 4,
 "nbformat_minor": 5
}
